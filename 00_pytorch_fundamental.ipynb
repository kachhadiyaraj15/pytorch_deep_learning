{
  "nbformat": 4,
  "nbformat_minor": 0,
  "metadata": {
    "colab": {
      "provenance": [],
      "authorship_tag": "ABX9TyPtjluS8QwN9Ml8F9dzf/Lo",
      "include_colab_link": true
    },
    "kernelspec": {
      "name": "python3",
      "display_name": "Python 3"
    },
    "language_info": {
      "name": "python"
    }
  },
  "cells": [
    {
      "cell_type": "markdown",
      "metadata": {
        "id": "view-in-github",
        "colab_type": "text"
      },
      "source": [
        "<a href=\"https://colab.research.google.com/github/kachhadiyaraj15/pytorch_deep_learning/blob/main/00_pytorch_fundamental.ipynb\" target=\"_parent\"><img src=\"https://colab.research.google.com/assets/colab-badge.svg\" alt=\"Open In Colab\"/></a>"
      ]
    },
    {
      "cell_type": "markdown",
      "source": [
        "### Hello Everyone,\n",
        "#### I hope you all are doing extremely well. I am very excitd about PyTorch journey."
      ],
      "metadata": {
        "id": "20ydFSC91QRu"
      }
    },
    {
      "cell_type": "code",
      "source": [
        "import torch\n",
        "import pandas as pd\n",
        "import matplotlib.pyplot as plt\n",
        "\n"
      ],
      "metadata": {
        "id": "-5fDhRmy1grH"
      },
      "execution_count": 1,
      "outputs": []
    },
    {
      "cell_type": "code",
      "source": [
        "print(torch.__version__)"
      ],
      "metadata": {
        "colab": {
          "base_uri": "https://localhost:8080/"
        },
        "id": "N5o8G3Sh2lCg",
        "outputId": "4b4f4924-7e2d-44dc-da12-6ed329ae2f37"
      },
      "execution_count": 2,
      "outputs": [
        {
          "output_type": "stream",
          "name": "stdout",
          "text": [
            "2.0.1+cu118\n"
          ]
        }
      ]
    },
    {
      "cell_type": "markdown",
      "source": [
        "### Introducction to Tensor"
      ],
      "metadata": {
        "id": "hbr9_Uyr3NQk"
      }
    },
    {
      "cell_type": "code",
      "source": [
        "# scaler\n",
        "scaler = torch.tensor(7)"
      ],
      "metadata": {
        "id": "T2UppjTM2nJH"
      },
      "execution_count": 3,
      "outputs": []
    },
    {
      "cell_type": "code",
      "source": [
        "scaler.ndim   # it's (ndim) define number of sqaure bracket"
      ],
      "metadata": {
        "colab": {
          "base_uri": "https://localhost:8080/"
        },
        "id": "RUH5XlGt2t8k",
        "outputId": "92ce9c8b-2cb5-4c3c-956d-e161a464c145"
      },
      "execution_count": 4,
      "outputs": [
        {
          "output_type": "execute_result",
          "data": {
            "text/plain": [
              "0"
            ]
          },
          "metadata": {},
          "execution_count": 4
        }
      ]
    },
    {
      "cell_type": "code",
      "source": [
        "# get tensor back to python int\n",
        "scaler.item()"
      ],
      "metadata": {
        "colab": {
          "base_uri": "https://localhost:8080/"
        },
        "id": "K_QyOz4C3hB2",
        "outputId": "1d638d3c-44ee-4c07-9999-8537d080de61"
      },
      "execution_count": 5,
      "outputs": [
        {
          "output_type": "execute_result",
          "data": {
            "text/plain": [
              "7"
            ]
          },
          "metadata": {},
          "execution_count": 5
        }
      ]
    },
    {
      "cell_type": "code",
      "source": [
        "# Vector\n",
        "vector = torch.tensor([7,7])"
      ],
      "metadata": {
        "id": "08zTwV3r3ydl"
      },
      "execution_count": 6,
      "outputs": []
    },
    {
      "cell_type": "code",
      "source": [
        "vector"
      ],
      "metadata": {
        "colab": {
          "base_uri": "https://localhost:8080/"
        },
        "id": "l8p6UGx1343k",
        "outputId": "eca51f09-10bd-48cd-d74c-a94593506c1c"
      },
      "execution_count": 7,
      "outputs": [
        {
          "output_type": "execute_result",
          "data": {
            "text/plain": [
              "tensor([7, 7])"
            ]
          },
          "metadata": {},
          "execution_count": 7
        }
      ]
    },
    {
      "cell_type": "code",
      "source": [
        "vector.ndim"
      ],
      "metadata": {
        "colab": {
          "base_uri": "https://localhost:8080/"
        },
        "id": "W3v7Jy9K36Ty",
        "outputId": "94d8ddad-6795-441c-c1a5-e51ac9f47714"
      },
      "execution_count": 8,
      "outputs": [
        {
          "output_type": "execute_result",
          "data": {
            "text/plain": [
              "1"
            ]
          },
          "metadata": {},
          "execution_count": 8
        }
      ]
    },
    {
      "cell_type": "code",
      "source": [
        "vector.shape"
      ],
      "metadata": {
        "colab": {
          "base_uri": "https://localhost:8080/"
        },
        "id": "hDYU8KA-5-hM",
        "outputId": "7c8970de-419a-4df7-ab9d-dca97cf93fac"
      },
      "execution_count": 9,
      "outputs": [
        {
          "output_type": "execute_result",
          "data": {
            "text/plain": [
              "torch.Size([2])"
            ]
          },
          "metadata": {},
          "execution_count": 9
        }
      ]
    },
    {
      "cell_type": "code",
      "source": [
        "# MATRIX\n",
        "MATRIX = torch.tensor([[1,2],\n",
        "                      [2,3]])"
      ],
      "metadata": {
        "id": "REHsBmiM6CRT"
      },
      "execution_count": 10,
      "outputs": []
    },
    {
      "cell_type": "code",
      "source": [
        "MATRIX.ndim"
      ],
      "metadata": {
        "colab": {
          "base_uri": "https://localhost:8080/"
        },
        "id": "kwQyBcrD6Qv8",
        "outputId": "51500aac-943a-4f71-8ea0-97d072a51369"
      },
      "execution_count": 11,
      "outputs": [
        {
          "output_type": "execute_result",
          "data": {
            "text/plain": [
              "2"
            ]
          },
          "metadata": {},
          "execution_count": 11
        }
      ]
    },
    {
      "cell_type": "code",
      "source": [
        "MATRIX.shape     # it's count number of square breacket with element"
      ],
      "metadata": {
        "colab": {
          "base_uri": "https://localhost:8080/"
        },
        "id": "cHj36Q2z6W3L",
        "outputId": "65143312-985c-4bd0-a6b5-31b59427ca6b"
      },
      "execution_count": 12,
      "outputs": [
        {
          "output_type": "execute_result",
          "data": {
            "text/plain": [
              "torch.Size([2, 2])"
            ]
          },
          "metadata": {},
          "execution_count": 12
        }
      ]
    },
    {
      "cell_type": "code",
      "source": [
        "# Tensor\n",
        "\n",
        "TENSOR = torch.tensor([[[1,2,3],\n",
        "                        [2,3,4]],\n",
        "                       [[1,2,4],\n",
        "                       [3,4,5]]])"
      ],
      "metadata": {
        "id": "fW-i_QAC6anz"
      },
      "execution_count": 13,
      "outputs": []
    },
    {
      "cell_type": "code",
      "source": [
        "TENSOR.ndim"
      ],
      "metadata": {
        "colab": {
          "base_uri": "https://localhost:8080/"
        },
        "id": "91eb8q-h6s8n",
        "outputId": "22aa6b70-f26e-4bb7-8535-1194e529d671"
      },
      "execution_count": 14,
      "outputs": [
        {
          "output_type": "execute_result",
          "data": {
            "text/plain": [
              "3"
            ]
          },
          "metadata": {},
          "execution_count": 14
        }
      ]
    },
    {
      "cell_type": "code",
      "source": [
        "TENSOR.shape"
      ],
      "metadata": {
        "colab": {
          "base_uri": "https://localhost:8080/"
        },
        "id": "NUYjrA-N604a",
        "outputId": "1e2b7672-89bb-4b3f-fff4-282330c9f2fb"
      },
      "execution_count": 15,
      "outputs": [
        {
          "output_type": "execute_result",
          "data": {
            "text/plain": [
              "torch.Size([2, 2, 3])"
            ]
          },
          "metadata": {},
          "execution_count": 15
        }
      ]
    },
    {
      "cell_type": "markdown",
      "source": [
        "### Random Tensor\n",
        "\n",
        "- Torch random tensor - https://pytorch.org/docs/stable/generated/torch.rand.html"
      ],
      "metadata": {
        "id": "MPKQC5bu7ztA"
      }
    },
    {
      "cell_type": "code",
      "source": [
        "# Create random tensor\n",
        "random_tensor = torch.rand(3,4)\n",
        "random_tensor"
      ],
      "metadata": {
        "colab": {
          "base_uri": "https://localhost:8080/"
        },
        "id": "L_DarIwB7552",
        "outputId": "a78ed6da-7389-4d8c-8035-122e0be64a34"
      },
      "execution_count": 16,
      "outputs": [
        {
          "output_type": "execute_result",
          "data": {
            "text/plain": [
              "tensor([[0.3032, 0.7445, 0.5136, 0.9610],\n",
              "        [0.0755, 0.1026, 0.9988, 0.0843],\n",
              "        [0.8901, 0.6081, 0.8895, 0.3549]])"
            ]
          },
          "metadata": {},
          "execution_count": 16
        }
      ]
    },
    {
      "cell_type": "code",
      "source": [
        "random_tensor.ndim"
      ],
      "metadata": {
        "colab": {
          "base_uri": "https://localhost:8080/"
        },
        "id": "KwqTcK828Z7Y",
        "outputId": "b8bfe8de-551c-4404-a66c-11aaf7bdccb5"
      },
      "execution_count": 17,
      "outputs": [
        {
          "output_type": "execute_result",
          "data": {
            "text/plain": [
              "2"
            ]
          },
          "metadata": {},
          "execution_count": 17
        }
      ]
    },
    {
      "cell_type": "code",
      "source": [
        "# Create random tensor with same shape to an image tensor\n",
        "random_image_size_tensor = torch.rand(size= (224,224,3))    # Height,Widrth,Color channels (R,G,B)\n",
        "random_image_size_tensor.shape, random_image_size_tensor.ndim"
      ],
      "metadata": {
        "colab": {
          "base_uri": "https://localhost:8080/"
        },
        "id": "YSd_FE7x8cam",
        "outputId": "85b5755c-2cea-424f-bf8d-5b66fb172305"
      },
      "execution_count": 18,
      "outputs": [
        {
          "output_type": "execute_result",
          "data": {
            "text/plain": [
              "(torch.Size([224, 224, 3]), 3)"
            ]
          },
          "metadata": {},
          "execution_count": 18
        }
      ]
    },
    {
      "cell_type": "markdown",
      "source": [
        "### Zeros ans Ones"
      ],
      "metadata": {
        "id": "2Fnhdn4o-Z1v"
      }
    },
    {
      "cell_type": "code",
      "source": [
        "zeros = torch.zeros(size = (3,4))"
      ],
      "metadata": {
        "id": "ZWxf77k8_F9H"
      },
      "execution_count": 19,
      "outputs": []
    },
    {
      "cell_type": "code",
      "source": [
        "zeros"
      ],
      "metadata": {
        "colab": {
          "base_uri": "https://localhost:8080/"
        },
        "id": "b6QjdUQ7_Own",
        "outputId": "aa761707-95a0-4aa6-ac7c-81ee33338ae3"
      },
      "execution_count": 20,
      "outputs": [
        {
          "output_type": "execute_result",
          "data": {
            "text/plain": [
              "tensor([[0., 0., 0., 0.],\n",
              "        [0., 0., 0., 0.],\n",
              "        [0., 0., 0., 0.]])"
            ]
          },
          "metadata": {},
          "execution_count": 20
        }
      ]
    },
    {
      "cell_type": "code",
      "source": [
        "zeros * random_tensor"
      ],
      "metadata": {
        "colab": {
          "base_uri": "https://localhost:8080/"
        },
        "id": "Z3ZcKH_z_QKP",
        "outputId": "5e6edc37-a8da-4f9e-b532-6a55fb514e89"
      },
      "execution_count": 21,
      "outputs": [
        {
          "output_type": "execute_result",
          "data": {
            "text/plain": [
              "tensor([[0., 0., 0., 0.],\n",
              "        [0., 0., 0., 0.],\n",
              "        [0., 0., 0., 0.]])"
            ]
          },
          "metadata": {},
          "execution_count": 21
        }
      ]
    },
    {
      "cell_type": "code",
      "source": [
        "## Create a tenxor of ones\n",
        "ones = torch.ones(size = (3,4))"
      ],
      "metadata": {
        "id": "8O_M-aPY_Vl4"
      },
      "execution_count": 22,
      "outputs": []
    },
    {
      "cell_type": "code",
      "source": [
        "ones * random_tensor"
      ],
      "metadata": {
        "colab": {
          "base_uri": "https://localhost:8080/"
        },
        "id": "fSVc0M0U_iiv",
        "outputId": "1a650fe3-5572-4aa1-e4db-f61be50bb8ba"
      },
      "execution_count": 23,
      "outputs": [
        {
          "output_type": "execute_result",
          "data": {
            "text/plain": [
              "tensor([[0.3032, 0.7445, 0.5136, 0.9610],\n",
              "        [0.0755, 0.1026, 0.9988, 0.0843],\n",
              "        [0.8901, 0.6081, 0.8895, 0.3549]])"
            ]
          },
          "metadata": {},
          "execution_count": 23
        }
      ]
    },
    {
      "cell_type": "code",
      "source": [
        "ones.dtype"
      ],
      "metadata": {
        "colab": {
          "base_uri": "https://localhost:8080/"
        },
        "id": "r_VzydGh_jHG",
        "outputId": "7a7d67bd-f3d1-48ac-a73f-da30ca574ff2"
      },
      "execution_count": 24,
      "outputs": [
        {
          "output_type": "execute_result",
          "data": {
            "text/plain": [
              "torch.float32"
            ]
          },
          "metadata": {},
          "execution_count": 24
        }
      ]
    },
    {
      "cell_type": "markdown",
      "source": [
        "### Creatinf a range of tensors and tensors-like"
      ],
      "metadata": {
        "id": "uwNF8q1G__oQ"
      }
    },
    {
      "cell_type": "code",
      "source": [
        "one_to_ten = torch.arange(0,11)"
      ],
      "metadata": {
        "id": "VEzvN9wQAauI"
      },
      "execution_count": 25,
      "outputs": []
    },
    {
      "cell_type": "code",
      "source": [
        "one_to_twenty = torch.arange(start = 0, end = 50 , step=3)"
      ],
      "metadata": {
        "id": "4tM5qDd0Aktf"
      },
      "execution_count": 26,
      "outputs": []
    },
    {
      "cell_type": "code",
      "source": [
        "# Create tensors like\n",
        "torch_zeros_like = torch.zeros_like(one_to_twenty)"
      ],
      "metadata": {
        "id": "VmvKAvbJA16v"
      },
      "execution_count": 27,
      "outputs": []
    },
    {
      "cell_type": "code",
      "source": [
        "print(one_to_ten)\n",
        "print(one_to_twenty)\n",
        "print(torch_zeros_like)"
      ],
      "metadata": {
        "colab": {
          "base_uri": "https://localhost:8080/"
        },
        "id": "hhxKl1nVBTNn",
        "outputId": "dcff454a-289f-4690-ca94-5d9f956a9862"
      },
      "execution_count": 28,
      "outputs": [
        {
          "output_type": "stream",
          "name": "stdout",
          "text": [
            "tensor([ 0,  1,  2,  3,  4,  5,  6,  7,  8,  9, 10])\n",
            "tensor([ 0,  3,  6,  9, 12, 15, 18, 21, 24, 27, 30, 33, 36, 39, 42, 45, 48])\n",
            "tensor([0, 0, 0, 0, 0, 0, 0, 0, 0, 0, 0, 0, 0, 0, 0, 0, 0])\n"
          ]
        }
      ]
    },
    {
      "cell_type": "markdown",
      "source": [
        "## TENSOR  Datatypes\n",
        "Torch Data types - https://pytorch.org/docs/stable/tensor_attributes.html"
      ],
      "metadata": {
        "id": "tHpznqtMBcI3"
      }
    },
    {
      "cell_type": "code",
      "source": [
        "# float 32 tensors\n",
        "float_32_tensor = torch.tensor([1.0,2.0,3.0],\n",
        "                               dtype = None)\n",
        "float_32_tensor.dtype"
      ],
      "metadata": {
        "colab": {
          "base_uri": "https://localhost:8080/"
        },
        "id": "TbTA_rU-B12X",
        "outputId": "934ec7bd-d178-4e8a-f129-a0ae930360ba"
      },
      "execution_count": 29,
      "outputs": [
        {
          "output_type": "execute_result",
          "data": {
            "text/plain": [
              "torch.float32"
            ]
          },
          "metadata": {},
          "execution_count": 29
        }
      ]
    },
    {
      "cell_type": "code",
      "source": [
        "float_16_tensor = torch.tensor([1.0,2.0,3.0],\n",
        "                               dtype = torch.float16 )\n",
        "float_16_tensor.dtype"
      ],
      "metadata": {
        "colab": {
          "base_uri": "https://localhost:8080/"
        },
        "id": "JORZALOdCLm_",
        "outputId": "af02953f-0168-4e11-d128-1a6818b520a4"
      },
      "execution_count": 30,
      "outputs": [
        {
          "output_type": "execute_result",
          "data": {
            "text/plain": [
              "torch.float16"
            ]
          },
          "metadata": {},
          "execution_count": 30
        }
      ]
    },
    {
      "cell_type": "code",
      "source": [
        "float_32_tensor = torch.tensor([1.0,2.0,3.0],\n",
        "                               dtype = None,\n",
        "                               device = None,\n",
        "                               requires_grad= False)\n",
        "float_32_tensor.dtype"
      ],
      "metadata": {
        "colab": {
          "base_uri": "https://localhost:8080/"
        },
        "id": "LCSUSf8xCaAg",
        "outputId": "e4060e48-50c1-4222-c494-fecdc04a4f88"
      },
      "execution_count": 31,
      "outputs": [
        {
          "output_type": "execute_result",
          "data": {
            "text/plain": [
              "torch.float32"
            ]
          },
          "metadata": {},
          "execution_count": 31
        }
      ]
    },
    {
      "cell_type": "code",
      "source": [
        "float_16_tensor = float_32_tensor.type(torch.float16)\n",
        "float_16_tensor"
      ],
      "metadata": {
        "colab": {
          "base_uri": "https://localhost:8080/"
        },
        "id": "1b-XDIxhCkRX",
        "outputId": "ef0dbd83-0688-4584-a952-e753395391cd"
      },
      "execution_count": 32,
      "outputs": [
        {
          "output_type": "execute_result",
          "data": {
            "text/plain": [
              "tensor([1., 2., 3.], dtype=torch.float16)"
            ]
          },
          "metadata": {},
          "execution_count": 32
        }
      ]
    },
    {
      "cell_type": "code",
      "source": [
        "float_16_tensor * float_32_tensor"
      ],
      "metadata": {
        "colab": {
          "base_uri": "https://localhost:8080/"
        },
        "id": "5UMWk-qhEbhJ",
        "outputId": "df1a5142-930c-47a7-df30-bf977597c467"
      },
      "execution_count": 33,
      "outputs": [
        {
          "output_type": "execute_result",
          "data": {
            "text/plain": [
              "tensor([1., 4., 9.])"
            ]
          },
          "metadata": {},
          "execution_count": 33
        }
      ]
    },
    {
      "cell_type": "code",
      "source": [
        "int_32_tensor =  torch.tensor([1,2,3], dtype = torch.int32)\n",
        "int_32_tensor"
      ],
      "metadata": {
        "colab": {
          "base_uri": "https://localhost:8080/"
        },
        "id": "8ZzdRCNIFDMQ",
        "outputId": "1f18ae54-8c0b-49e8-ae15-eec566b8c498"
      },
      "execution_count": 34,
      "outputs": [
        {
          "output_type": "execute_result",
          "data": {
            "text/plain": [
              "tensor([1, 2, 3], dtype=torch.int32)"
            ]
          },
          "metadata": {},
          "execution_count": 34
        }
      ]
    },
    {
      "cell_type": "code",
      "source": [
        "float_32_tensor * int_32_tensor"
      ],
      "metadata": {
        "colab": {
          "base_uri": "https://localhost:8080/"
        },
        "id": "Vp7kszXGFLsQ",
        "outputId": "3c993056-0ad4-446a-8de2-922a44a47abe"
      },
      "execution_count": 35,
      "outputs": [
        {
          "output_type": "execute_result",
          "data": {
            "text/plain": [
              "tensor([1., 4., 9.])"
            ]
          },
          "metadata": {},
          "execution_count": 35
        }
      ]
    },
    {
      "cell_type": "code",
      "source": [
        "print(float_32_tensor.dtype)\n",
        "print(float_32_tensor.shape)\n",
        "print(float_32_tensor.device)\n"
      ],
      "metadata": {
        "colab": {
          "base_uri": "https://localhost:8080/"
        },
        "id": "ZPTRX0vmFX3P",
        "outputId": "9af0a9ee-9ac4-4783-ff7a-7d3e522c4c37"
      },
      "execution_count": 36,
      "outputs": [
        {
          "output_type": "stream",
          "name": "stdout",
          "text": [
            "torch.float32\n",
            "torch.Size([3])\n",
            "cpu\n"
          ]
        }
      ]
    },
    {
      "cell_type": "code",
      "source": [
        "float_32_tensor + int_32_tensor"
      ],
      "metadata": {
        "colab": {
          "base_uri": "https://localhost:8080/"
        },
        "id": "ppGM8-3eGXoJ",
        "outputId": "b26f49c7-f55f-4b87-e178-cb230af7c9f2"
      },
      "execution_count": 37,
      "outputs": [
        {
          "output_type": "execute_result",
          "data": {
            "text/plain": [
              "tensor([2., 4., 6.])"
            ]
          },
          "metadata": {},
          "execution_count": 37
        }
      ]
    },
    {
      "cell_type": "code",
      "source": [
        "matrix = torch.rand(size = (3,4))\n",
        "matrix_mm = torch.mm(matrix, matrix.T)   # mm is duplicate version of matmul function\n",
        "matrix_mm"
      ],
      "metadata": {
        "colab": {
          "base_uri": "https://localhost:8080/"
        },
        "id": "PC7-5KWmHODu",
        "outputId": "f8b8faaf-4001-4c04-ebe9-5ce83aabd2e2"
      },
      "execution_count": 38,
      "outputs": [
        {
          "output_type": "execute_result",
          "data": {
            "text/plain": [
              "tensor([[1.6455, 0.9772, 1.3649],\n",
              "        [0.9772, 0.5975, 0.8533],\n",
              "        [1.3649, 0.8533, 1.9440]])"
            ]
          },
          "metadata": {},
          "execution_count": 38
        }
      ]
    },
    {
      "cell_type": "markdown",
      "source": [
        "### Reshaping, stacking, squeezing and unsqueezing tensors\n",
        "\n",
        "| Method\t| One-line description |\n",
        "|---------| ---------------------|\n",
        "|torch.reshape(input, shape) |\tReshapes input to shape (if compatible), can also use torch.Tensor.reshape().|\n",
        "|Tensor.view(shape)|\tReturns a view of the original tensor in a different shape but shares the same data as the original tensor.|\n",
        "|torch.stack(tensors, dim=0)|\tConcatenates a sequence of tensors along a new dimension (dim), all tensors must be same size.|\n",
        "|torch.squeeze(input)\t|Squeezes input to remove all the dimenions with value 1.|\n",
        "|torch.unsqueeze(input, dim)|\tReturns input with a dimension value of 1 added at dim.|\n",
        "|torch.permute(input, dims)\t|Returns a view of the original input with its dimensions permuted (rearranged) to dims.|"
      ],
      "metadata": {
        "id": "IjZOqJkBT1EN"
      }
    },
    {
      "cell_type": "code",
      "source": [
        "x = torch.arange(1., 10.)"
      ],
      "metadata": {
        "id": "jFcfyDfCZusY"
      },
      "execution_count": 39,
      "outputs": []
    },
    {
      "cell_type": "code",
      "source": [
        "x"
      ],
      "metadata": {
        "colab": {
          "base_uri": "https://localhost:8080/"
        },
        "id": "1gNwXPn2a6MG",
        "outputId": "5d6de1fa-e6cc-48e1-d401-375cfa6b926a"
      },
      "execution_count": 40,
      "outputs": [
        {
          "output_type": "execute_result",
          "data": {
            "text/plain": [
              "tensor([1., 2., 3., 4., 5., 6., 7., 8., 9.])"
            ]
          },
          "metadata": {},
          "execution_count": 40
        }
      ]
    },
    {
      "cell_type": "code",
      "source": [
        "# add extra dimention\n",
        "y = x.reshape(9,1)"
      ],
      "metadata": {
        "id": "uUbxfy2Ta6tm"
      },
      "execution_count": 41,
      "outputs": []
    },
    {
      "cell_type": "code",
      "source": [
        "y"
      ],
      "metadata": {
        "colab": {
          "base_uri": "https://localhost:8080/"
        },
        "id": "XAYtmtMhBMg6",
        "outputId": "afb5408f-535f-4a6c-b745-a2f64b036ccb"
      },
      "execution_count": 42,
      "outputs": [
        {
          "output_type": "execute_result",
          "data": {
            "text/plain": [
              "tensor([[1.],\n",
              "        [2.],\n",
              "        [3.],\n",
              "        [4.],\n",
              "        [5.],\n",
              "        [6.],\n",
              "        [7.],\n",
              "        [8.],\n",
              "        [9.]])"
            ]
          },
          "metadata": {},
          "execution_count": 42
        }
      ]
    },
    {
      "cell_type": "code",
      "source": [
        "z = x.view(1,9)\n",
        "z"
      ],
      "metadata": {
        "colab": {
          "base_uri": "https://localhost:8080/"
        },
        "id": "OS5FIxDgDlAq",
        "outputId": "a544d21d-7aca-4355-a09f-ddf5f438e431"
      },
      "execution_count": 43,
      "outputs": [
        {
          "output_type": "execute_result",
          "data": {
            "text/plain": [
              "tensor([[1., 2., 3., 4., 5., 6., 7., 8., 9.]])"
            ]
          },
          "metadata": {},
          "execution_count": 43
        }
      ]
    },
    {
      "cell_type": "code",
      "source": [
        "# # Changing z changes x\n",
        "z [:, 0] = 5\n",
        "z, x\n"
      ],
      "metadata": {
        "colab": {
          "base_uri": "https://localhost:8080/"
        },
        "id": "oUEjzX_JBNJA",
        "outputId": "e42e46bf-222d-492b-91cc-bc22172cb0dc"
      },
      "execution_count": 44,
      "outputs": [
        {
          "output_type": "execute_result",
          "data": {
            "text/plain": [
              "(tensor([[5., 2., 3., 4., 5., 6., 7., 8., 9.]]),\n",
              " tensor([5., 2., 3., 4., 5., 6., 7., 8., 9.]))"
            ]
          },
          "metadata": {},
          "execution_count": 44
        }
      ]
    },
    {
      "cell_type": "code",
      "source": [
        "# Stack tensors on top of each other\n",
        "x_stacked = torch.stack([x,x,x,x], dim=0)\n",
        "x_stacked"
      ],
      "metadata": {
        "colab": {
          "base_uri": "https://localhost:8080/"
        },
        "id": "FiuXA0KaDdvp",
        "outputId": "d573271e-4d9c-4e36-88c2-a4acd61199ee"
      },
      "execution_count": 45,
      "outputs": [
        {
          "output_type": "execute_result",
          "data": {
            "text/plain": [
              "tensor([[5., 2., 3., 4., 5., 6., 7., 8., 9.],\n",
              "        [5., 2., 3., 4., 5., 6., 7., 8., 9.],\n",
              "        [5., 2., 3., 4., 5., 6., 7., 8., 9.],\n",
              "        [5., 2., 3., 4., 5., 6., 7., 8., 9.]])"
            ]
          },
          "metadata": {},
          "execution_count": 45
        }
      ]
    },
    {
      "cell_type": "code",
      "source": [
        "x_stacked = torch.stack([x,x,x,x], dim=1)\n",
        "x_stacked"
      ],
      "metadata": {
        "colab": {
          "base_uri": "https://localhost:8080/"
        },
        "id": "7MofK1lzEGTH",
        "outputId": "26ba4272-c137-4183-a4cd-7d7fa74b86d8"
      },
      "execution_count": 46,
      "outputs": [
        {
          "output_type": "execute_result",
          "data": {
            "text/plain": [
              "tensor([[5., 5., 5., 5.],\n",
              "        [2., 2., 2., 2.],\n",
              "        [3., 3., 3., 3.],\n",
              "        [4., 4., 4., 4.],\n",
              "        [5., 5., 5., 5.],\n",
              "        [6., 6., 6., 6.],\n",
              "        [7., 7., 7., 7.],\n",
              "        [8., 8., 8., 8.],\n",
              "        [9., 9., 9., 9.]])"
            ]
          },
          "metadata": {},
          "execution_count": 46
        }
      ]
    },
    {
      "cell_type": "code",
      "source": [
        "# To do so you can use torch.squeeze() (I remember this as squeezing the tensor to only have dimensions over 1)\n",
        "x_squeeze = torch.squeeze(x)\n",
        "x_squeeze, x_squeeze.shape"
      ],
      "metadata": {
        "colab": {
          "base_uri": "https://localhost:8080/"
        },
        "id": "1Eb0TW1EEQ6Q",
        "outputId": "048a5bdd-9278-4554-ebfb-469aebd96e35"
      },
      "execution_count": 47,
      "outputs": [
        {
          "output_type": "execute_result",
          "data": {
            "text/plain": [
              "(tensor([5., 2., 3., 4., 5., 6., 7., 8., 9.]), torch.Size([9]))"
            ]
          },
          "metadata": {},
          "execution_count": 47
        }
      ]
    },
    {
      "cell_type": "code",
      "source": [
        "x_unsqueeze = torch.unsqueeze(x_squeeze, dim = 0)\n",
        "x_unsqueeze, x_unsqueeze.shape"
      ],
      "metadata": {
        "colab": {
          "base_uri": "https://localhost:8080/"
        },
        "id": "eePow-YxFMFa",
        "outputId": "a783d25c-2863-46a7-99f8-5cf96d6b37ac"
      },
      "execution_count": 48,
      "outputs": [
        {
          "output_type": "execute_result",
          "data": {
            "text/plain": [
              "(tensor([[5., 2., 3., 4., 5., 6., 7., 8., 9.]]), torch.Size([1, 9]))"
            ]
          },
          "metadata": {},
          "execution_count": 48
        }
      ]
    },
    {
      "cell_type": "code",
      "source": [
        "x_unsqueeze = torch.unsqueeze(x_squeeze, dim = 1)\n",
        "x_unsqueeze, x_unsqueeze.shape"
      ],
      "metadata": {
        "colab": {
          "base_uri": "https://localhost:8080/"
        },
        "id": "VDlchRq4GDjw",
        "outputId": "c3824a73-7578-46bc-be4b-e49ff5cc3a24"
      },
      "execution_count": 49,
      "outputs": [
        {
          "output_type": "execute_result",
          "data": {
            "text/plain": [
              "(tensor([[5.],\n",
              "         [2.],\n",
              "         [3.],\n",
              "         [4.],\n",
              "         [5.],\n",
              "         [6.],\n",
              "         [7.],\n",
              "         [8.],\n",
              "         [9.]]),\n",
              " torch.Size([9, 1]))"
            ]
          },
          "metadata": {},
          "execution_count": 49
        }
      ]
    },
    {
      "cell_type": "code",
      "source": [
        "# torch.permute operation, chanfge the dimension based on requirement\n",
        "x_permute = torch.permute(x_unsqueeze, (1,0))\n",
        "print(x_permute)\n",
        "print(f\"X_unsqueeze shape: {x_unsqueeze.shape}\")\n",
        "print(f\"X_permute shape: {x_permute.shape}\")"
      ],
      "metadata": {
        "colab": {
          "base_uri": "https://localhost:8080/"
        },
        "id": "jSPIOryMGLX2",
        "outputId": "2c9ae266-eced-4e63-f229-bb98ced204ed"
      },
      "execution_count": 50,
      "outputs": [
        {
          "output_type": "stream",
          "name": "stdout",
          "text": [
            "tensor([[5., 2., 3., 4., 5., 6., 7., 8., 9.]])\n",
            "X_unsqueeze shape: torch.Size([9, 1])\n",
            "X_permute shape: torch.Size([1, 9])\n"
          ]
        }
      ]
    },
    {
      "cell_type": "code",
      "source": [
        "x = torch.randn(2, 3, 5)\n",
        "x.size()\n",
        "torch.permute(x, (2, 0, 1)).size()"
      ],
      "metadata": {
        "colab": {
          "base_uri": "https://localhost:8080/"
        },
        "id": "lTTgF8MOHeJD",
        "outputId": "3911a673-f31b-4637-aadc-7df1f2f12849"
      },
      "execution_count": 51,
      "outputs": [
        {
          "output_type": "execute_result",
          "data": {
            "text/plain": [
              "torch.Size([5, 2, 3])"
            ]
          },
          "metadata": {},
          "execution_count": 51
        }
      ]
    },
    {
      "cell_type": "code",
      "source": [],
      "metadata": {
        "id": "Wn7AXrpBH-BN"
      },
      "execution_count": 51,
      "outputs": []
    }
  ]
}