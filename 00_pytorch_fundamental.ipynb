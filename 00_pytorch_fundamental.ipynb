{
  "nbformat": 4,
  "nbformat_minor": 0,
  "metadata": {
    "colab": {
      "provenance": [],
      "authorship_tag": "ABX9TyMs3LDrwxE2Racrv/zUgHKz",
      "include_colab_link": true
    },
    "kernelspec": {
      "name": "python3",
      "display_name": "Python 3"
    },
    "language_info": {
      "name": "python"
    }
  },
  "cells": [
    {
      "cell_type": "markdown",
      "metadata": {
        "id": "view-in-github",
        "colab_type": "text"
      },
      "source": [
        "<a href=\"https://colab.research.google.com/github/kachhadiyaraj15/pytorch_deep_learning/blob/main/00_pytorch_fundamental.ipynb\" target=\"_parent\"><img src=\"https://colab.research.google.com/assets/colab-badge.svg\" alt=\"Open In Colab\"/></a>"
      ]
    },
    {
      "cell_type": "markdown",
      "source": [
        "### Hello Everyone,\n",
        "#### I hope you all are doing extremely well. I am very excitd about PyTorch journey."
      ],
      "metadata": {
        "id": "20ydFSC91QRu"
      }
    },
    {
      "cell_type": "code",
      "source": [],
      "metadata": {
        "id": "-5fDhRmy1grH"
      },
      "execution_count": null,
      "outputs": []
    }
  ]
}